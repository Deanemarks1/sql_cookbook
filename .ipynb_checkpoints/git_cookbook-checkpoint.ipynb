{
 "cells": [
  {
   "cell_type": "code",
   "execution_count": 8,
   "id": "69a5ff6f-d33b-4828-b566-b59ee838affc",
   "metadata": {},
   "outputs": [],
   "source": [
    "# Example usage:\n",
    "import os\n",
    "base_dir = os.getcwd() + '/'\n",
    "\n",
    "\n",
    "\n",
    "\n",
    "def push_local_file_to_repo(local_file_path, repo_url, branch=\"main\", commit_message=None):\n",
    "    \"\"\"\n",
    "    Pushes a local file to the specified GitHub repo.\n",
    "    Works inside Jupyter, Flask, or normal .py files.\n",
    "    \"\"\"\n",
    "    import subprocess, os, datetime\n",
    "\n",
    "    repo_dir = os.path.dirname(local_file_path)\n",
    "    os.chdir(repo_dir)\n",
    "\n",
    "    subprocess.run([\"git\", \"remote\", \"set-url\", \"origin\", repo_url], check=False)\n",
    "\n",
    "    if commit_message is None:\n",
    "        timestamp = datetime.datetime.now().strftime(\"%Y-%m-%d %H:%M:%S\")\n",
    "        commit_message = f\"Auto-update {os.path.basename(local_file_path)} [{timestamp}]\"\n",
    "\n",
    "    cmds = [\n",
    "        [\"git\", \"add\", local_file_path],\n",
    "        [\"git\", \"commit\", \"-m\", commit_message],\n",
    "        [\"git\", \"push\", \"origin\", branch]\n",
    "    ]\n",
    "\n",
    "    for cmd in cmds:\n",
    "        print(f\"Running: {' '.join(cmd)}\")\n",
    "        subprocess.run(cmd, check=False)\n",
    "\n",
    "    print(f\"✅ {os.path.basename(local_file_path)} pushed to {repo_url} ({branch})\")\n",
    "\n",
    "\n",
    "\n",
    "\n",
    "def pull_file_from_repo(local_file_path, repo_raw_url):\n",
    "    \"\"\"\n",
    "    Pulls (downloads) the latest version of a file from a GitHub repo and overwrites the local copy.\n",
    "    \n",
    "    Example:\n",
    "        repo_raw_url = \"https://raw.githubusercontent.com/Deanemarks1/sql_cookbook/main/mysqlconnector.py\"\n",
    "        pull_file_from_repo(base_dir + \"mysqlconnector.py\", repo_raw_url)\n",
    "    \"\"\"\n",
    "    import requests, os\n",
    "\n",
    "    print(f\"📥 Downloading latest version from: {repo_raw_url}\")\n",
    "    r = requests.get(repo_raw_url)\n",
    "    r.raise_for_status()\n",
    "\n",
    "    with open(local_file_path, \"wb\") as f:\n",
    "        f.write(r.content)\n",
    "\n",
    "    print(f\"✅ Overwrote local file: {local_file_path}\")\n",
    "\n",
    "\n"
   ]
  },
  {
   "cell_type": "code",
   "execution_count": null,
   "id": "b0bede50-787c-4040-aaa5-deffb887818b",
   "metadata": {},
   "outputs": [],
   "source": []
  },
  {
   "cell_type": "code",
   "execution_count": null,
   "id": "c6b2b1f9-7690-43ca-bf21-979f27c8b6cc",
   "metadata": {},
   "outputs": [],
   "source": [
    "\n",
    "push_local_file_to_repo(\n",
    "    local_file_path = base_dir + \"mysqlconnector.py\",                  \n",
    "    repo_url = \"git@github.com:Deanemarks1/sql_cookbook.git\"  )"
   ]
  },
  {
   "cell_type": "code",
   "execution_count": null,
   "id": "acd07e24-dd14-467d-8aec-8c3d51ed849c",
   "metadata": {},
   "outputs": [],
   "source": [
    "\n",
    "push_local_file_to_repo(\n",
    "    local_file_path = base_dir + \"git_cookbook.ipynb\",                  \n",
    "    repo_url = \"git@github.com:Deanemarks1/sql_cookbook.git\"  )\n"
   ]
  },
  {
   "cell_type": "code",
   "execution_count": null,
   "id": "f14b6109-c259-4db4-8066-13fa8470c8b1",
   "metadata": {},
   "outputs": [],
   "source": []
  },
  {
   "cell_type": "code",
   "execution_count": null,
   "id": "4064b663-e92f-4033-900e-11bf219b42f8",
   "metadata": {},
   "outputs": [],
   "source": [
    "pull_file_from_repo(\n",
    "    local_file_path = base_dir + \"mysqlconnector.py\", \n",
    "    repo_raw_url = \"https://raw.githubusercontent.com/Deanemarks1/sql_cookbook/main/mysqlconnector.py\")"
   ]
  },
  {
   "cell_type": "code",
   "execution_count": null,
   "id": "13307624-404b-440e-b289-ae49fe3c74ca",
   "metadata": {},
   "outputs": [],
   "source": []
  },
  {
   "cell_type": "code",
   "execution_count": null,
   "id": "6e93d735-a88f-4e81-b668-0f2559fd1394",
   "metadata": {},
   "outputs": [],
   "source": []
  },
  {
   "cell_type": "code",
   "execution_count": null,
   "id": "72fc4685-13fa-4f41-8f17-35eccc9077fc",
   "metadata": {},
   "outputs": [],
   "source": [
    "pull_file_from_repo(\n",
    "    local_file_path = base_dir + \"git_cookbook.py\", \n",
    "    repo_raw_url = )"
   ]
  }
 ],
 "metadata": {
  "kernelspec": {
   "display_name": "Python 3 (ipykernel)",
   "language": "python",
   "name": "python3"
  },
  "language_info": {
   "codemirror_mode": {
    "name": "ipython",
    "version": 3
   },
   "file_extension": ".py",
   "mimetype": "text/x-python",
   "name": "python",
   "nbconvert_exporter": "python",
   "pygments_lexer": "ipython3",
   "version": "3.9.6"
  }
 },
 "nbformat": 4,
 "nbformat_minor": 5
}
