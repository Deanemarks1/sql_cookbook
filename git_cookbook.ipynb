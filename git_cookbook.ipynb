{
 "cells": [
  {
   "cell_type": "code",
   "execution_count": 6,
   "id": "69a5ff6f-d33b-4828-b566-b59ee838affc",
   "metadata": {},
   "outputs": [],
   "source": [
    "import os, subprocess, datetime, requests\n",
    "\n",
    "def push_local_file_to_repo(local_file_path, repo_url, branch=\"main\", commit_message=None):\n",
    "    \"\"\"\n",
    "    Push a file to GitHub — works in Jupyter or PythonAnywhere.\n",
    "    - Auto-initializes if no .git folder\n",
    "    - Auto-pulls if remote is ahead\n",
    "    - Never crashes on common Git errors\n",
    "    \"\"\"\n",
    "    repo_dir = os.path.dirname(local_file_path)\n",
    "    os.chdir(repo_dir)\n",
    "\n",
    "    # init if needed\n",
    "    if not os.path.exists(os.path.join(repo_dir, \".git\")):\n",
    "        subprocess.run([\"git\", \"init\"], check=False)\n",
    "        subprocess.run([\"git\", \"remote\", \"add\", \"origin\", repo_url], check=False)\n",
    "\n",
    "    subprocess.run([\"git\", \"remote\", \"set-url\", \"origin\", repo_url], check=False)\n",
    "\n",
    "    # commit message\n",
    "    if commit_message is None:\n",
    "        timestamp = datetime.datetime.now().strftime(\"%Y-%m-%d %H:%M:%S\")\n",
    "        commit_message = f\"Auto-update {os.path.basename(local_file_path)} [{timestamp}]\"\n",
    "\n",
    "    # add + commit\n",
    "    subprocess.run([\"git\", \"add\", local_file_path], check=False)\n",
    "    subprocess.run([\"git\", \"commit\", \"-m\", commit_message], check=False)\n",
    "\n",
    "    # pull to fix non-fast-forward errors\n",
    "    subprocess.run([\"git\", \"pull\", \"--rebase\", \"origin\", branch], check=False)\n",
    "    subprocess.run([\"git\", \"push\", \"origin\", branch], check=False)\n",
    "\n",
    "    print(f\"✅ {os.path.basename(local_file_path)} pushed to {repo_url} ({branch})\")\n",
    "\n",
    "\n",
    "def pull_file_from_repo(local_file_path, repo_raw_url):\n",
    "    \"\"\"\n",
    "    Pull (download) a file from GitHub and overwrite local version.\n",
    "    \"\"\"\n",
    "    print(f\"📥 Pulling latest from: {repo_raw_url}\")\n",
    "    r = requests.get(repo_raw_url, timeout=10)\n",
    "    r.raise_for_status()\n",
    "    with open(local_file_path, \"wb\") as f:\n",
    "        f.write(r.content)\n",
    "    print(f\"✅ Updated local file: {local_file_path}\")\n"
   ]
  },
  {
   "cell_type": "code",
   "execution_count": null,
   "id": "b0bede50-787c-4040-aaa5-deffb887818b",
   "metadata": {},
   "outputs": [],
   "source": []
  },
  {
   "cell_type": "code",
   "execution_count": null,
   "id": "c6b2b1f9-7690-43ca-bf21-979f27c8b6cc",
   "metadata": {},
   "outputs": [],
   "source": [
    "\n",
    "push_local_file_to_repo(\n",
    "    local_file_path = base_dir + \"mysqlconnector.py\",                  \n",
    "    repo_url = \"git@github.com:Deanemarks1/sql_cookbook.git\"  )"
   ]
  },
  {
   "cell_type": "code",
   "execution_count": null,
   "id": "acd07e24-dd14-467d-8aec-8c3d51ed849c",
   "metadata": {},
   "outputs": [],
   "source": [
    "\n",
    "push_local_file_to_repo(\n",
    "    local_file_path = base_dir + \"git_cookbook.ipynb\",                  \n",
    "    repo_url = \"git@github.com:Deanemarks1/sql_cookbook.git\"  )\n"
   ]
  },
  {
   "cell_type": "code",
   "execution_count": 7,
   "id": "81567436-a114-40f0-886e-a5203a08386d",
   "metadata": {},
   "outputs": [
    {
     "name": "stdout",
     "output_type": "stream",
     "text": [
      "On branch main\n",
      "Untracked files:\n",
      "  (use \"git add <file>...\" to include in what will be committed)\n",
      "\t.DS_Store\n",
      "\t.ipynb_checkpoints/\n",
      "\tgit_cookbook.ipynb\n",
      "\tmysqlconnector.py\n",
      "\tscraper_thread/\n",
      "\tsql_cookbook.ipynb\n",
      "\tstock_twits_scraper.ipynb\n",
      "\n",
      "nothing added to commit but untracked files present (use \"git add\" to track)\n"
     ]
    },
    {
     "name": "stderr",
     "output_type": "stream",
     "text": [
      "From github.com:Deanemarks1/sql_cookbook\n",
      " * branch            main       -> FETCH_HEAD\n",
      "error: The following untracked working tree files would be overwritten by checkout:\n",
      "\tgit_cookbook.ipynb\n",
      "\tmysqlconnector.py\n",
      "Please move or remove them before you switch branches.\n",
      "Aborting\n",
      "error: could not detach HEAD\n"
     ]
    },
    {
     "name": "stdout",
     "output_type": "stream",
     "text": [
      "✅ selenium_setup.py pushed to git@github.com:Deanemarks1/sql_cookbook.git (main)\n"
     ]
    },
    {
     "name": "stderr",
     "output_type": "stream",
     "text": [
      "To github.com:Deanemarks1/sql_cookbook.git\n",
      " ! [rejected]        main -> main (non-fast-forward)\n",
      "error: failed to push some refs to 'github.com:Deanemarks1/sql_cookbook.git'\n",
      "hint: Updates were rejected because the tip of your current branch is behind\n",
      "hint: its remote counterpart. Integrate the remote changes (e.g.\n",
      "hint: 'git pull ...') before pushing again.\n",
      "hint: See the 'Note about fast-forwards' in 'git push --help' for details.\n"
     ]
    }
   ],
   "source": [
    "push_local_file_to_repo(\n",
    "    local_file_path = base_dir + \"selenium_setup.py\",\n",
    "    repo_url = \"git@github.com:Deanemarks1/sql_cookbook.git\"\n",
    ")\n",
    "\n"
   ]
  },
  {
   "cell_type": "code",
   "execution_count": null,
   "id": "900f10e6-30f8-43fc-aea4-7a40e4460984",
   "metadata": {},
   "outputs": [],
   "source": []
  },
  {
   "cell_type": "code",
   "execution_count": null,
   "id": "2ecce598-c8c7-4c0e-ac07-77e18318c3ce",
   "metadata": {},
   "outputs": [],
   "source": []
  },
  {
   "cell_type": "code",
   "execution_count": null,
   "id": "c2449e88-742f-4a10-88f4-4f6421511738",
   "metadata": {},
   "outputs": [],
   "source": []
  },
  {
   "cell_type": "code",
   "execution_count": null,
   "id": "f14b6109-c259-4db4-8066-13fa8470c8b1",
   "metadata": {},
   "outputs": [],
   "source": []
  },
  {
   "cell_type": "code",
   "execution_count": null,
   "id": "4064b663-e92f-4033-900e-11bf219b42f8",
   "metadata": {},
   "outputs": [],
   "source": [
    "pull_file_from_repo(\n",
    "    local_file_path = base_dir + \"mysqlconnector.py\", \n",
    "    repo_raw_url = \"https://raw.githubusercontent.com/Deanemarks1/sql_cookbook/main/mysqlconnector.py\")"
   ]
  },
  {
   "cell_type": "code",
   "execution_count": null,
   "id": "13307624-404b-440e-b289-ae49fe3c74ca",
   "metadata": {},
   "outputs": [],
   "source": []
  },
  {
   "cell_type": "code",
   "execution_count": null,
   "id": "6e93d735-a88f-4e81-b668-0f2559fd1394",
   "metadata": {},
   "outputs": [],
   "source": []
  },
  {
   "cell_type": "code",
   "execution_count": null,
   "id": "72fc4685-13fa-4f41-8f17-35eccc9077fc",
   "metadata": {},
   "outputs": [],
   "source": [
    "pull_file_from_repo(\n",
    "    local_file_path = base_dir + \"git_cookbook.py\", \n",
    "    repo_raw_url = )"
   ]
  }
 ],
 "metadata": {
  "kernelspec": {
   "display_name": "Python 3 (ipykernel)",
   "language": "python",
   "name": "python3"
  },
  "language_info": {
   "codemirror_mode": {
    "name": "ipython",
    "version": 3
   },
   "file_extension": ".py",
   "mimetype": "text/x-python",
   "name": "python",
   "nbconvert_exporter": "python",
   "pygments_lexer": "ipython3",
   "version": "3.9.6"
  }
 },
 "nbformat": 4,
 "nbformat_minor": 5
}
